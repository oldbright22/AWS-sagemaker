{
 "cells": [
  {
   "cell_type": "markdown",
   "id": "3db22188-11ce-4f84-a55a-ae52ed5574af",
   "metadata": {},
   "source": [
    "#https://aws.amazon.com/tutorials/machine-learning-tutorial-train-a-model/"
   ]
  },
  {
   "cell_type": "code",
   "execution_count": null,
   "id": "92b5c178-f980-4635-ba82-b756e4d0e70d",
   "metadata": {},
   "outputs": [],
   "source": [
    "%pip install sagemaker --upgrade  #--quiet "
   ]
  },
  {
   "cell_type": "code",
   "execution_count": null,
   "id": "604cf030-935b-4a5a-ba2c-cbe3b926c7fd",
   "metadata": {
    "tags": []
   },
   "outputs": [],
   "source": [
    "%pip install xgboost==1.3.1 pandas"
   ]
  },
  {
   "cell_type": "code",
   "execution_count": 2,
   "id": "ba190f03-fff5-492b-9187-a46b251e7453",
   "metadata": {
    "tags": []
   },
   "outputs": [
    {
     "name": "stdout",
     "output_type": "stream",
     "text": [
      "sagemaker.config INFO - Not applying SDK defaults from location: /etc/xdg/sagemaker/config.yaml\n",
      "sagemaker.config INFO - Not applying SDK defaults from location: /root/.config/sagemaker/config.yaml\n"
     ]
    }
   ],
   "source": [
    "import pandas as pd\n",
    "import boto3\n",
    "import sagemaker\n",
    "import json\n",
    "import joblib\n",
    "from sagemaker.xgboost.estimator import XGBoost\n",
    "from sagemaker.tuner import (\n",
    "    IntegerParameter,\n",
    "    ContinuousParameter,\n",
    "    HyperparameterTuner\n",
    ")\n",
    "from sagemaker.inputs import TrainingInput\n",
    "from sagemaker.image_uris import retrieve\n",
    "from sagemaker.serializers import CSVSerializer\n",
    "from sagemaker.deserializers import CSVDeserializer\n",
    "\n",
    "# Setting SageMaker variables\n",
    "sess = sagemaker.Session()\n",
    "write_bucket = sess.default_bucket()\n",
    "write_prefix = \"fraud-detect-demo\"\n",
    "\n",
    "region = sess.boto_region_name\n",
    "s3_client = boto3.client(\"s3\", region_name=region)\n",
    "\n",
    "sagemaker_role = sagemaker.get_execution_role()\n",
    "sagemaker_client = boto3.client(\"sagemaker\")\n",
    "read_bucket = \"sagemaker-sample-files\"\n",
    "read_prefix = \"datasets/tabular/synthetic_automobile_claims\" \n",
    "\n",
    "\n",
    "# Setting S3 location for read and write operations\n",
    "train_data_key = f\"{read_prefix}/train.csv\"\n",
    "test_data_key = f\"{read_prefix}/test.csv\"\n",
    "validation_data_key = f\"{read_prefix}/validation.csv\"\n",
    "model_key = f\"{write_prefix}/model\"\n",
    "output_key = f\"{write_prefix}/output\"\n",
    "\n",
    "\n",
    "train_data_uri = f\"s3://{read_bucket}/{train_data_key}\"\n",
    "test_data_uri = f\"s3://{read_bucket}/{test_data_key}\"\n",
    "validation_data_uri = f\"s3://{read_bucket}/{validation_data_key}\"\n",
    "model_uri = f\"s3://{write_bucket}/{model_key}\"\n",
    "output_uri = f\"s3://{write_bucket}/{output_key}\"\n",
    "estimator_output_uri = f\"s3://{write_bucket}/{write_prefix}/training_jobs\"\n",
    "bias_report_output_uri = f\"s3://{write_bucket}/{write_prefix}/clarify-output/bias\"\n",
    "explainability_report_output_uri = f\"s3://{write_bucket}/{write_prefix}/clarify-output/explainability\""
   ]
  },
  {
   "cell_type": "code",
   "execution_count": 3,
   "id": "e1ec9fb1-f152-4559-b6a3-0803b606d462",
   "metadata": {
    "tags": []
   },
   "outputs": [],
   "source": [
    "tuning_job_name_prefix = \"xgbtune\" \n",
    "training_job_name_prefix = \"xgbtrain\"\n",
    "\n",
    "xgb_model_name = \"fraud-detect-xgb-model\"\n",
    "endpoint_name_prefix = \"xgb-fraud-model-dev\"\n",
    "train_instance_count = 1\n",
    "train_instance_type = \"ml.m4.xlarge\"\n",
    "predictor_instance_count = 1\n",
    "predictor_instance_type = \"ml.m4.xlarge\"\n",
    "clarify_instance_count = 1\n",
    "clarify_instance_type = \"ml.m4.xlarge\"\n"
   ]
  },
  {
   "cell_type": "code",
   "execution_count": 4,
   "id": "a7ffd827-b15b-4551-a10c-06aff904d193",
   "metadata": {},
   "outputs": [
    {
     "name": "stdout",
     "output_type": "stream",
     "text": [
      "Overwriting xgboost_train.py\n"
     ]
    }
   ],
   "source": [
    "%%writefile xgboost_train.py\n",
    "\n",
    "import argparse\n",
    "import os\n",
    "import joblib\n",
    "import json\n",
    "import pandas as pd\n",
    "import xgboost as xgb\n",
    "from sklearn.metrics import roc_auc_score\n",
    "\n",
    "if __name__ == \"__main__\":\n",
    "    parser = argparse.ArgumentParser()\n",
    "\n",
    "    # Hyperparameters and algorithm parameters are described here\n",
    "    parser.add_argument(\"--num_round\", type=int, default=100)\n",
    "    parser.add_argument(\"--max_depth\", type=int, default=3)\n",
    "    parser.add_argument(\"--eta\", type=float, default=0.2)\n",
    "    parser.add_argument(\"--subsample\", type=float, default=0.9)\n",
    "    parser.add_argument(\"--colsample_bytree\", type=float, default=0.8)\n",
    "    parser.add_argument(\"--objective\", type=str, default=\"binary:logistic\")\n",
    "    parser.add_argument(\"--eval_metric\", type=str, default=\"auc\")\n",
    "    parser.add_argument(\"--nfold\", type=int, default=3)\n",
    "    parser.add_argument(\"--early_stopping_rounds\", type=int, default=3)\n",
    "    \n",
    "\n",
    "    # SageMaker specific arguments. Defaults are set in the environment variables\n",
    "    # Location of input training data\n",
    "    parser.add_argument(\"--train_data_dir\", type=str, default=os.environ.get(\"SM_CHANNEL_TRAIN\"))\n",
    "    # Location of input validation data\n",
    "    parser.add_argument(\"--validation_data_dir\", type=str, default=os.environ.get(\"SM_CHANNEL_VALIDATION\"))\n",
    "    # Location where trained model will be stored. Default set by SageMaker, /opt/ml/model\n",
    "    parser.add_argument(\"--model_dir\", type=str, default=os.environ.get(\"SM_MODEL_DIR\"))\n",
    "    # Location where model artifacts will be stored. Default set by SageMaker, /opt/ml/output/data\n",
    "    parser.add_argument(\"--output_data_dir\", type=str, default=os.environ.get(\"SM_OUTPUT_DATA_DIR\"))\n",
    "    \n",
    "    args = parser.parse_args()\n",
    "\n",
    "    data_train = pd.read_csv(f\"{args.train_data_dir}/train.csv\")\n",
    "    train = data_train.drop(\"fraud\", axis=1)\n",
    "    label_train = pd.DataFrame(data_train[\"fraud\"])\n",
    "    dtrain = xgb.DMatrix(train, label=label_train)\n",
    "    \n",
    "    \n",
    "    data_validation = pd.read_csv(f\"{args.validation_data_dir}/validation.csv\")\n",
    "    validation = data_validation.drop(\"fraud\", axis=1)\n",
    "    label_validation = pd.DataFrame(data_validation[\"fraud\"])\n",
    "    dvalidation = xgb.DMatrix(validation, label=label_validation)\n",
    "\n",
    "    params = {\"max_depth\": args.max_depth,\n",
    "              \"eta\": args.eta,\n",
    "              \"objective\": args.objective,\n",
    "              \"subsample\" : args.subsample,\n",
    "              \"colsample_bytree\":args.colsample_bytree\n",
    "             }\n",
    "    \n",
    "    num_boost_round = args.num_round\n",
    "    nfold = args.nfold\n",
    "    early_stopping_rounds = args.early_stopping_rounds\n",
    "    \n",
    "    cv_results = xgb.cv(\n",
    "        params=params,\n",
    "        dtrain=dtrain,\n",
    "        num_boost_round=num_boost_round,\n",
    "        nfold=nfold,\n",
    "        early_stopping_rounds=early_stopping_rounds,\n",
    "        metrics=[\"auc\"],\n",
    "        seed=42,\n",
    "    )\n",
    "    \n",
    "    model = xgb.train(params=params, dtrain=dtrain, num_boost_round=len(cv_results))\n",
    "    \n",
    "    train_pred = model.predict(dtrain)\n",
    "    validation_pred = model.predict(dvalidation)\n",
    "    \n",
    "    train_auc = roc_auc_score(label_train, train_pred)\n",
    "    validation_auc = roc_auc_score(label_validation, validation_pred)\n",
    "    \n",
    "    print(f\"[0]#011train-auc:{train_auc:.2f}\")\n",
    "    print(f\"[0]#011validation-auc:{validation_auc:.2f}\")\n",
    "\n",
    "    metrics_data = {\"hyperparameters\" : params,\n",
    "                    \"binary_classification_metrics\": {\"validation:auc\": {\"value\": validation_auc},\n",
    "                                                      \"train:auc\": {\"value\": train_auc}\n",
    "                                                     }\n",
    "                   }\n",
    "              \n",
    "    # Save the evaluation metrics to the location specified by output_data_dir\n",
    "    metrics_location = args.output_data_dir + \"/metrics.json\"\n",
    "    \n",
    "    # Save the model to the location specified by model_dir\n",
    "    model_location = args.model_dir + \"/xgboost-model\"\n",
    "\n",
    "    with open(metrics_location, \"w\") as f:\n",
    "        json.dump(metrics_data, f)\n",
    "\n",
    "    with open(model_location, \"wb\") as f:\n",
    "        joblib.dump(model, f)\n"
   ]
  },
  {
   "cell_type": "code",
   "execution_count": 5,
   "id": "e1e56f0d-002a-4204-a11d-b7abe57f5e89",
   "metadata": {},
   "outputs": [],
   "source": [
    "# SageMaker estimator\n",
    "\n",
    "# Set static hyperparameters that will not be tuned\n",
    "static_hyperparams = {  \n",
    "                        \"eval_metric\" : \"auc\",\n",
    "                        \"objective\": \"binary:logistic\",\n",
    "                        \"num_round\": \"5\"\n",
    "                      }\n",
    "\n",
    "xgb_estimator = XGBoost(\n",
    "                        entry_point=\"xgboost_train.py\",\n",
    "                        output_path=estimator_output_uri,\n",
    "                        code_location=estimator_output_uri,\n",
    "                        hyperparameters=static_hyperparams,\n",
    "                        role=sagemaker_role,\n",
    "                        instance_count=train_instance_count,\n",
    "                        instance_type=train_instance_type,\n",
    "                        framework_version=\"1.3-1\",\n",
    "                        base_job_name=training_job_name_prefix\n",
    "                    )"
   ]
  },
  {
   "cell_type": "code",
   "execution_count": 6,
   "id": "5a5884c9-8c13-47a8-9286-3cc2203b9e63",
   "metadata": {},
   "outputs": [],
   "source": [
    "# Setting ranges of hyperparameters to be tuned\n",
    "hyperparameter_ranges = {\n",
    "    \"eta\": ContinuousParameter(0, 1),\n",
    "    \"subsample\": ContinuousParameter(0.7, 0.95),\n",
    "    \"colsample_bytree\": ContinuousParameter(0.7, 0.95),\n",
    "    \"max_depth\": IntegerParameter(1, 5)\n",
    "}"
   ]
  },
  {
   "cell_type": "code",
   "execution_count": 7,
   "id": "1bd6f6cf-4752-4470-a846-8f9ecc1c18e7",
   "metadata": {},
   "outputs": [],
   "source": [
    "objective_metric_name = \"validation:auc\"\n",
    "\n",
    "# Setting up tuner object\n",
    "tuner_config_dict = {\n",
    "                     \"estimator\" : xgb_estimator,\n",
    "                     \"max_jobs\" : 5,\n",
    "                     \"max_parallel_jobs\" : 2,\n",
    "                     \"objective_metric_name\" : objective_metric_name,\n",
    "                     \"hyperparameter_ranges\" : hyperparameter_ranges,\n",
    "                     \"base_tuning_job_name\" : tuning_job_name_prefix,\n",
    "                     \"strategy\" : \"Random\"\n",
    "                    }\n",
    "tuner = HyperparameterTuner(**tuner_config_dict)"
   ]
  },
  {
   "cell_type": "code",
   "execution_count": 8,
   "id": "0e487d28-76e2-4b04-bd8c-6e8a919556b7",
   "metadata": {},
   "outputs": [
    {
     "name": "stderr",
     "output_type": "stream",
     "text": [
      "No finished training job found associated with this estimator. Please make sure this estimator is only used for building workflow config\n"
     ]
    },
    {
     "name": "stdout",
     "output_type": "stream",
     "text": [
      ".......................................................!\n",
      "!\n"
     ]
    }
   ],
   "source": [
    "# Setting the input channels for tuning job\n",
    "s3_input_train = TrainingInput(s3_data=\"s3://{}/{}\".format(read_bucket, train_data_key), content_type=\"csv\", s3_data_type=\"S3Prefix\")\n",
    "s3_input_validation = (TrainingInput(s3_data=\"s3://{}/{}\".format(read_bucket, validation_data_key), \n",
    "                                    content_type=\"csv\", s3_data_type=\"S3Prefix\")\n",
    "                      )\n",
    "\n",
    "tuner.fit(inputs={\"train\": s3_input_train, \"validation\": s3_input_validation}, include_cls_metadata=False)\n",
    "tuner.wait()"
   ]
  },
  {
   "cell_type": "code",
   "execution_count": 9,
   "id": "752b1c93-3392-4530-a336-b6b95ee36262",
   "metadata": {},
   "outputs": [
    {
     "data": {
      "text/html": [
       "<div>\n",
       "<style scoped>\n",
       "    .dataframe tbody tr th:only-of-type {\n",
       "        vertical-align: middle;\n",
       "    }\n",
       "\n",
       "    .dataframe tbody tr th {\n",
       "        vertical-align: top;\n",
       "    }\n",
       "\n",
       "    .dataframe thead th {\n",
       "        text-align: right;\n",
       "    }\n",
       "</style>\n",
       "<table border=\"1\" class=\"dataframe\">\n",
       "  <thead>\n",
       "    <tr style=\"text-align: right;\">\n",
       "      <th></th>\n",
       "      <th>colsample_bytree</th>\n",
       "      <th>eta</th>\n",
       "      <th>max_depth</th>\n",
       "      <th>subsample</th>\n",
       "      <th>TrainingJobName</th>\n",
       "      <th>TrainingJobStatus</th>\n",
       "      <th>FinalObjectiveValue</th>\n",
       "      <th>TrainingStartTime</th>\n",
       "      <th>TrainingEndTime</th>\n",
       "      <th>TrainingElapsedTimeSeconds</th>\n",
       "    </tr>\n",
       "  </thead>\n",
       "  <tbody>\n",
       "    <tr>\n",
       "      <th>1</th>\n",
       "      <td>0.930159</td>\n",
       "      <td>0.960635</td>\n",
       "      <td>2.0</td>\n",
       "      <td>0.725262</td>\n",
       "      <td>xgbtune-240428-2158-004-34517db2</td>\n",
       "      <td>Completed</td>\n",
       "      <td>0.80</td>\n",
       "      <td>2024-04-28 22:01:19+00:00</td>\n",
       "      <td>2024-04-28 22:02:02+00:00</td>\n",
       "      <td>43.0</td>\n",
       "    </tr>\n",
       "    <tr>\n",
       "      <th>2</th>\n",
       "      <td>0.715721</td>\n",
       "      <td>0.831568</td>\n",
       "      <td>5.0</td>\n",
       "      <td>0.829370</td>\n",
       "      <td>xgbtune-240428-2158-003-036d93ca</td>\n",
       "      <td>Completed</td>\n",
       "      <td>0.70</td>\n",
       "      <td>2024-04-28 22:01:18+00:00</td>\n",
       "      <td>2024-04-28 22:01:59+00:00</td>\n",
       "      <td>41.0</td>\n",
       "    </tr>\n",
       "    <tr>\n",
       "      <th>3</th>\n",
       "      <td>0.879741</td>\n",
       "      <td>0.927272</td>\n",
       "      <td>1.0</td>\n",
       "      <td>0.700078</td>\n",
       "      <td>xgbtune-240428-2158-002-1ad6b716</td>\n",
       "      <td>Completed</td>\n",
       "      <td>0.68</td>\n",
       "      <td>2024-04-28 21:59:08+00:00</td>\n",
       "      <td>2024-04-28 22:01:05+00:00</td>\n",
       "      <td>117.0</td>\n",
       "    </tr>\n",
       "    <tr>\n",
       "      <th>4</th>\n",
       "      <td>0.855023</td>\n",
       "      <td>0.755502</td>\n",
       "      <td>1.0</td>\n",
       "      <td>0.777568</td>\n",
       "      <td>xgbtune-240428-2158-001-2018362d</td>\n",
       "      <td>Completed</td>\n",
       "      <td>0.68</td>\n",
       "      <td>2024-04-28 21:59:10+00:00</td>\n",
       "      <td>2024-04-28 22:01:08+00:00</td>\n",
       "      <td>118.0</td>\n",
       "    </tr>\n",
       "    <tr>\n",
       "      <th>0</th>\n",
       "      <td>0.843129</td>\n",
       "      <td>0.853527</td>\n",
       "      <td>1.0</td>\n",
       "      <td>0.771150</td>\n",
       "      <td>xgbtune-240428-2158-005-30e5cac6</td>\n",
       "      <td>Completed</td>\n",
       "      <td>0.64</td>\n",
       "      <td>2024-04-28 22:02:08+00:00</td>\n",
       "      <td>2024-04-28 22:02:50+00:00</td>\n",
       "      <td>42.0</td>\n",
       "    </tr>\n",
       "  </tbody>\n",
       "</table>\n",
       "</div>"
      ],
      "text/plain": [
       "   colsample_bytree       eta  max_depth  subsample  \\\n",
       "1          0.930159  0.960635        2.0   0.725262   \n",
       "2          0.715721  0.831568        5.0   0.829370   \n",
       "3          0.879741  0.927272        1.0   0.700078   \n",
       "4          0.855023  0.755502        1.0   0.777568   \n",
       "0          0.843129  0.853527        1.0   0.771150   \n",
       "\n",
       "                    TrainingJobName TrainingJobStatus  FinalObjectiveValue  \\\n",
       "1  xgbtune-240428-2158-004-34517db2         Completed                 0.80   \n",
       "2  xgbtune-240428-2158-003-036d93ca         Completed                 0.70   \n",
       "3  xgbtune-240428-2158-002-1ad6b716         Completed                 0.68   \n",
       "4  xgbtune-240428-2158-001-2018362d         Completed                 0.68   \n",
       "0  xgbtune-240428-2158-005-30e5cac6         Completed                 0.64   \n",
       "\n",
       "          TrainingStartTime           TrainingEndTime  \\\n",
       "1 2024-04-28 22:01:19+00:00 2024-04-28 22:02:02+00:00   \n",
       "2 2024-04-28 22:01:18+00:00 2024-04-28 22:01:59+00:00   \n",
       "3 2024-04-28 21:59:08+00:00 2024-04-28 22:01:05+00:00   \n",
       "4 2024-04-28 21:59:10+00:00 2024-04-28 22:01:08+00:00   \n",
       "0 2024-04-28 22:02:08+00:00 2024-04-28 22:02:50+00:00   \n",
       "\n",
       "   TrainingElapsedTimeSeconds  \n",
       "1                        43.0  \n",
       "2                        41.0  \n",
       "3                       117.0  \n",
       "4                       118.0  \n",
       "0                        42.0  "
      ]
     },
     "execution_count": 9,
     "metadata": {},
     "output_type": "execute_result"
    }
   ],
   "source": [
    "# Summary of tuning results ordered in descending order of performance\n",
    "df_tuner = sagemaker.HyperparameterTuningJobAnalytics(tuner.latest_tuning_job.job_name).dataframe()\n",
    "df_tuner = df_tuner[df_tuner[\"FinalObjectiveValue\"]>-float('inf')].sort_values(\"FinalObjectiveValue\", ascending=False)\n",
    "df_tuner"
   ]
  },
  {
   "cell_type": "code",
   "execution_count": 10,
   "id": "713fc477-4ce7-4d9c-939e-97b926dc1eb3",
   "metadata": {},
   "outputs": [],
   "source": [
    "tuner_job_info = sagemaker_client.describe_hyper_parameter_tuning_job(HyperParameterTuningJobName=tuner.latest_tuning_job.job_name)\n",
    "\n",
    "model_matches = sagemaker_client.list_models(NameContains=xgb_model_name)[\"Models\"]\n",
    "\n",
    "if not model_matches:\n",
    "    _ = sess.create_model_from_job(\n",
    "            name=xgb_model_name,\n",
    "            training_job_name=tuner_job_info['BestTrainingJob'][\"TrainingJobName\"],\n",
    "            role=sagemaker_role,\n",
    "            image_uri=tuner_job_info['TrainingJobDefinition'][\"AlgorithmSpecification\"][\"TrainingImage\"]\n",
    "            )\n",
    "else:\n",
    "\n",
    "    print(f\"Model {xgb_model_name} already exists.\")"
   ]
  },
  {
   "cell_type": "code",
   "execution_count": 11,
   "id": "afe420f3-19ed-47b1-9bb7-e8cbedc90bea",
   "metadata": {},
   "outputs": [],
   "source": [
    "train_df = pd.read_csv(train_data_uri)\n",
    "train_df_cols = train_df.columns.to_list()\n",
    "\n",
    "clarify_processor = sagemaker.clarify.SageMakerClarifyProcessor(\n",
    "    role=sagemaker_role,\n",
    "    instance_count=clarify_instance_count,\n",
    "    instance_type=clarify_instance_type,\n",
    "    sagemaker_session=sess,\n",
    ")\n",
    "\n",
    "# Data config\n",
    "bias_data_config = sagemaker.clarify.DataConfig(\n",
    "    s3_data_input_path=train_data_uri,\n",
    "    s3_output_path=bias_report_output_uri,\n",
    "    label=\"fraud\",\n",
    "    headers=train_df_cols,\n",
    "    dataset_type=\"text/csv\",\n",
    ")\n",
    "\n",
    "# Model config\n",
    "model_config = sagemaker.clarify.ModelConfig(\n",
    "    model_name=xgb_model_name,\n",
    "    instance_type=train_instance_type,\n",
    "    instance_count=1,\n",
    "    accept_type=\"text/csv\",\n",
    ")\n",
    "\n",
    "# Model predictions config to get binary labels from probabilities\n",
    "predictions_config = sagemaker.clarify.ModelPredictedLabelConfig(probability_threshold=0.5)\n",
    "\n",
    "# Bias config\n",
    "bias_config = sagemaker.clarify.BiasConfig(\n",
    "    label_values_or_threshold=[0],\n",
    "    facet_name=\"customer_gender_female\",\n",
    "    facet_values_or_threshold=[1],\n",
    ")"
   ]
  },
  {
   "cell_type": "code",
   "execution_count": null,
   "id": "5c28f537-08aa-4097-b5d8-233c064327ec",
   "metadata": {},
   "outputs": [
    {
     "name": "stderr",
     "output_type": "stream",
     "text": [
      "INFO:sagemaker:Creating processing-job with name Clarify-Bias-2024-04-28-22-09-12-032\n"
     ]
    },
    {
     "name": "stdout",
     "output_type": "stream",
     "text": [
      "............................................."
     ]
    }
   ],
   "source": [
    "clarify_processor.run_bias(\n",
    "    data_config=bias_data_config,\n",
    "    bias_config=bias_config,\n",
    "    model_config=model_config,\n",
    "    model_predicted_label_config=predictions_config,\n",
    "    pre_training_methods=[\"CI\"],\n",
    "    post_training_methods=[\"DPPL\"]\n",
    "    )\n",
    "\n",
    "clarify_bias_job_name = clarify_processor.latest_job.name"
   ]
  },
  {
   "cell_type": "code",
   "execution_count": 13,
   "id": "f55f19cf-59d0-4855-82f4-03d1a0197dec",
   "metadata": {},
   "outputs": [
    {
     "name": "stdout",
     "output_type": "stream",
     "text": [
      "download: s3://sagemaker-us-east-1-711638914386/fraud-detect-demo/clarify-output/bias/report.pdf to ./clarify_bias_output.pdf\n"
     ]
    }
   ],
   "source": [
    "# Copy bias report and view locally\n",
    "!aws s3 cp s3://{write_bucket}/{write_prefix}/clarify-output/bias/report.pdf ./clarify_bias_output.pdf"
   ]
  },
  {
   "cell_type": "code",
   "execution_count": 14,
   "id": "f6842535-53a9-4e6b-be83-0a935491cd7c",
   "metadata": {},
   "outputs": [
    {
     "name": "stderr",
     "output_type": "stream",
     "text": [
      "INFO:sagemaker.clarify:Analysis Config: {'dataset_type': 'text/csv', 'headers': ['fraud', 'num_vehicles_involved', 'num_injuries', 'num_witnesses', 'police_report_available', 'injury_claim', 'vehicle_claim', 'total_claim_amount', 'incident_month', 'incident_day', 'incident_dow', 'incident_hour', 'customer_age', 'months_as_customer', 'num_claims_past_year', 'num_insurers_past_5_years', 'policy_deductable', 'policy_annual_premium', 'policy_liability', 'customer_education', 'auto_year', 'driver_relationship_other', 'driver_relationship_child', 'driver_relationship_spouse', 'driver_relationship_na', 'driver_relationship_self', 'incident_type_collision', 'incident_type_break-in', 'incident_type_theft', 'collision_type_rear', 'collision_type_side', 'collision_type_na', 'collision_type_front', 'incident_severity_totaled', 'incident_severity_major', 'incident_severity_minor', 'authorities_contacted_fire', 'authorities_contacted_none', 'authorities_contacted_police', 'authorities_contacted_ambulance', 'policy_state_ca', 'policy_state_az', 'policy_state_nv', 'policy_state_id', 'policy_state_wa', 'policy_state_or', 'customer_gender_other', 'customer_gender_male', 'customer_gender_female'], 'label': 'fraud', 'predictor': {'model_name': 'fraud-detect-xgb-model', 'instance_type': 'ml.m4.xlarge', 'initial_instance_count': 1, 'accept_type': 'text/csv'}, 'methods': {'report': {'name': 'report', 'title': 'Analysis Report'}, 'shap': {'use_logit': False, 'save_local_shap_values': True, 'baseline': [[2.1085058618109254, 0.5584933898727862, 0.8685457720129708, 0.4220503866300823, 24257.121476677476, 17169.351123437555, 41426.472600115034, 6.726365677226241, 15.585682215016213, 2.645048640558743, 11.722624095784484, 44.15714642055375, 98.60688450985283, 0.08730356697430781, 1.4130705911698678, 751.0725866799701, 2925.3305063606886, 1.118233973559491, 2.531304564729359, 2015.7251184834124, 0.04065851833374907, 0.04489897730107259, 0.08505861810925418, 0.14342728860064854, 0.6859565976552756, 0.8565727113993514, 0.09553504614617112, 0.04789224245447742, 0.21900723372412073, 0.21052631578947367, 0.14342728860064854, 0.427039161885757, 0.23547019206784733, 0.34846595160888, 0.41606385632327264, 0.024195559990022448, 0.2432027937141432, 0.7031678722873534, 0.029433774008480917, 0.6303317535545023, 0.107009229234223, 0.04190571214766775, 0.027937141431778497, 0.12297331005238214, 0.06984285357944625, 0.0177101521576453, 0.4622100274382639, 0.43576951858318785]], 'num_samples': 500, 'agg_method': 'mean_abs'}}}\n",
      "INFO:sagemaker:Creating processing-job with name Clarify-Explainability-2024-04-28-22-29-57-366\n"
     ]
    },
    {
     "name": "stdout",
     "output_type": "stream",
     "text": [
      "................................................\u001b[34mWARNING:root:logging.conf not found when configuring logging, using default logging configuration.\u001b[0m\n",
      "\u001b[34mINFO:sagemaker-clarify-processing:Starting SageMaker Clarify Processing job\u001b[0m\n",
      "\u001b[34mINFO:analyzer.data_loading.data_loader_util:Analysis config path: /opt/ml/processing/input/config/analysis_config.json\u001b[0m\n",
      "\u001b[34mINFO:analyzer.data_loading.data_loader_util:Analysis result path: /opt/ml/processing/output\u001b[0m\n",
      "\u001b[34mINFO:analyzer.data_loading.data_loader_util:This host is algo-1.\u001b[0m\n",
      "\u001b[34mINFO:analyzer.data_loading.data_loader_util:This host is the leader.\u001b[0m\n",
      "\u001b[34mINFO:analyzer.data_loading.data_loader_util:Number of hosts in the cluster is 1.\u001b[0m\n",
      "\u001b[34mINFO:sagemaker-clarify-processing:Running Python / Pandas based analyzer.\u001b[0m\n",
      "\u001b[34mINFO:analyzer.data_loading.data_loader_factory:Dataset type: text/csv uri: /opt/ml/processing/input/data\u001b[0m\n",
      "\u001b[34m/usr/local/lib/python3.9/site-packages/analyzer/data_loading/data_readers/csv_data_reader.py:58: FutureWarning: The frame.append method is deprecated and will be removed from pandas in a future version. Use pandas.concat instead.\n",
      "  df = df.append(df_tmp, ignore_index=True)\u001b[0m\n",
      "\u001b[34m/usr/local/lib/python3.9/site-packages/analyzer/data_loading/data_readers/csv_data_reader.py:58: FutureWarning: The frame.append method is deprecated and will be removed from pandas in a future version. Use pandas.concat instead.\n",
      "  df = df.append(df_tmp, ignore_index=True)\u001b[0m\n",
      "\u001b[34mINFO:sagemaker-clarify-processing:Loading dataset...\u001b[0m\n",
      "\u001b[34m/usr/local/lib/python3.9/site-packages/analyzer/data_loading/data_readers/csv_data_reader.py:58: FutureWarning: The frame.append method is deprecated and will be removed from pandas in a future version. Use pandas.concat instead.\n",
      "  df = df.append(df_tmp, ignore_index=True)\u001b[0m\n",
      "\u001b[34mINFO:sagemaker-clarify-processing:Loaded dataset. Dataset info:\u001b[0m\n",
      "\u001b[34m<class 'pandas.core.frame.DataFrame'>\u001b[0m\n",
      "\u001b[34mRangeIndex: 4009 entries, 0 to 4008\u001b[0m\n",
      "\u001b[34mData columns (total 48 columns):\n",
      " #   Column                           Non-Null Count  Dtype  \u001b[0m\n",
      "\u001b[34m---  ------                           --------------  -----  \n",
      " 0   num_vehicles_involved            4009 non-null   int64  \n",
      " 1   num_injuries                     4009 non-null   int64  \n",
      " 2   num_witnesses                    4009 non-null   int64  \n",
      " 3   police_report_available          4009 non-null   int64  \n",
      " 4   injury_claim                     4009 non-null   int64  \n",
      " 5   vehicle_claim                    4009 non-null   float64\n",
      " 6   total_claim_amount               4009 non-null   float64\n",
      " 7   incident_month                   4009 non-null   int64  \n",
      " 8   incident_day                     4009 non-null   int64  \n",
      " 9   incident_dow                     4009 non-null   int64  \n",
      " 10  incident_hour                    4009 non-null   int64  \n",
      " 11  customer_age                     4009 non-null   int64  \n",
      " 12  months_as_customer               4009 non-null   int64  \n",
      " 13  num_claims_past_year             4009 non-null   int64  \n",
      " 14  num_insurers_past_5_years        4009 non-null   int64  \n",
      " 15  policy_deductable                4009 non-null   int64  \n",
      " 16  policy_annual_premium            4009 non-null   int64  \n",
      " 17  policy_liability                 4009 non-null   int64  \n",
      " 18  customer_education               4009 non-null   int64  \n",
      " 19  auto_year                        4009 non-null   int64  \n",
      " 20  driver_relationship_other        4009 non-null   int64  \n",
      " 21  driver_relationship_child        4009 non-null   int64  \n",
      " 22  driver_relationship_spouse       4009 non-null   int64  \n",
      " 23  driver_relationship_na           4009 non-null   int64  \n",
      " 24  driver_relationship_self         4009 non-null   int64  \n",
      " 25  incident_type_collision          4009 non-null   int64  \n",
      " 26  incident_type_break-in           4009 non-null   int64  \n",
      " 27  incident_type_theft              4009 non-null   int64  \n",
      " 28  collision_type_rear              4009 non-null   int64  \n",
      " 29  collision_type_side              4009 non-null   int64  \n",
      " 30  collision_type_na                4009 non-null   int64  \n",
      " 31  collision_type_front             4009 non-null   int64  \n",
      " 32  incident_severity_totaled        4009 non-null   int64  \n",
      " 33  incident_severity_major          4009 non-null   int64  \n",
      " 34  incident_severity_minor          4009 non-null   int64  \n",
      " 35  authorities_contacted_fire       4009 non-null   int64  \n",
      " 36  authorities_contacted_none       4009 non-null   int64  \n",
      " 37  authorities_contacted_police     4009 non-null   int64  \n",
      " 38  authorities_contacted_ambulance  4009 non-null   int64  \n",
      " 39  policy_state_ca                  4009 non-null   int64  \n",
      " 40  policy_state_az                  4009 non-null   int64  \n",
      " 41  policy_state_nv                  4009 non-null   int64  \n",
      " 42  policy_state_id                  4009 non-null   int64  \n",
      " 43  policy_state_wa                  4009 non-null   int64  \n",
      " 44  policy_state_or                  4009 non-null   int64  \n",
      " 45  customer_gender_other            4009 non-null   int64  \n",
      " 46  customer_gender_male             4009 non-null   int64  \n",
      " 47  customer_gender_female           4009 non-null   int64  \u001b[0m\n",
      "\u001b[34mdtypes: float64(2), int64(46)\u001b[0m\n",
      "\u001b[34mmemory usage: 1.5 MB\u001b[0m\n",
      "\u001b[34mINFO:analyzer.predictor.managed_endpoint:Spinning up shadow endpoint\u001b[0m\n",
      "\u001b[34mINFO:sagemaker:Creating endpoint-config with name sm-clarify-config-1714343875-2d05\u001b[0m\n",
      "\u001b[34mINFO:analyzer.predictor.managed_endpoint:Creating endpoint: 'sm-clarify-fraud-detect-xgb-model-1714343875-30c5'\u001b[0m\n",
      "\u001b[34mINFO:botocore.client:No endpoints ruleset found for service sagemaker-internal, falling back to legacy endpoint routing.\u001b[0m\n",
      "\u001b[34mINFO:sagemaker-clarify-processing:Using endpoint name: sm-clarify-fraud-detect-xgb-model-1714343875-30c5\u001b[0m\n",
      "\u001b[34mINFO:sagemaker-clarify-processing:Waiting for endpoint ...\u001b[0m\n",
      "\u001b[34mINFO:analyzer.predictor.managed_endpoint:Checking endpoint status:\u001b[0m\n",
      "\u001b[34mLegend:\u001b[0m\n",
      "\u001b[34m(OutOfService: x, Creating: -, Updating: -, InService: !, RollingBack: <, Deleting: o, Failed: *)\u001b[0m\n",
      "\u001b[34mINFO:analyzer.predictor.managed_endpoint:Endpoint is in service after 181 seconds\u001b[0m\n",
      "\u001b[34mINFO:sagemaker-clarify-processing:Endpoint ready.\u001b[0m\n",
      "\u001b[34mINFO:explainers.shap.kernel_shap:Clarify Kernel SHAP n_coalitions: 500, n_instances: 1, n_features_to_explain: 48, model_output_size: 1\u001b[0m\n",
      "\u001b[34mINFO:analyzer.shap.shap_analyzer:=====================================================\u001b[0m\n",
      "\u001b[34mINFO:analyzer.shap.shap_analyzer:Shap analyzer: explaining 4009 rows, 48 columns...\u001b[0m\n",
      "\u001b[34mINFO:analyzer.shap.shap_analyzer:=====================================================\n",
      "  0% (0 of 4009) |                       | Elapsed Time: 0:00:00 ETA:  --:--:--\u001b[0m\n",
      "\u001b[34m  3% (158 of 4009) |                     | Elapsed Time: 0:00:30 ETA:   0:12:15\u001b[0m\n",
      "\u001b[34m  7% (319 of 4009) |#                    | Elapsed Time: 0:01:00 ETA:   0:11:37\u001b[0m\n",
      "\u001b[34m 11% (479 of 4009) |##                   | Elapsed Time: 0:01:30 ETA:   0:11:05\u001b[0m\n",
      "\u001b[34m 15% (641 of 4009) |###                  | Elapsed Time: 0:02:00 ETA:   0:10:33\u001b[0m\n",
      "\u001b[34m 20% (802 of 4009) |####                 | Elapsed Time: 0:02:30 ETA:   0:10:02\u001b[0m\n",
      "\u001b[34m 24% (965 of 4009) |#####                | Elapsed Time: 0:03:00 ETA:   0:09:30\u001b[0m\n",
      "\u001b[34m 28% (1126 of 4009) |#####               | Elapsed Time: 0:03:30 ETA:   0:08:59\u001b[0m\n",
      "\u001b[34m 32% (1287 of 4009) |######              | Elapsed Time: 0:04:00 ETA:   0:08:29\u001b[0m\n",
      "\u001b[34m 36% (1448 of 4009) |#######             | Elapsed Time: 0:04:30 ETA:   0:07:59\u001b[0m\n",
      "\u001b[34m 40% (1610 of 4009) |########            | Elapsed Time: 0:05:01 ETA:   0:07:28\u001b[0m\n",
      "\u001b[34m 44% (1771 of 4009) |########            | Elapsed Time: 0:05:31 ETA:   0:06:58\u001b[0m\n",
      "\u001b[34m 48% (1932 of 4009) |#########           | Elapsed Time: 0:06:01 ETA:   0:06:28\u001b[0m\n",
      "\u001b[34m 52% (2094 of 4009) |##########          | Elapsed Time: 0:06:31 ETA:   0:05:57\u001b[0m\n",
      "\u001b[34m 56% (2255 of 4009) |###########         | Elapsed Time: 0:07:01 ETA:   0:05:27\u001b[0m\n",
      "\u001b[34m 60% (2415 of 4009) |############        | Elapsed Time: 0:07:31 ETA:   0:04:57\u001b[0m\n",
      "\u001b[34m 64% (2577 of 4009) |############        | Elapsed Time: 0:08:01 ETA:   0:04:27\u001b[0m\n",
      "\u001b[34m 68% (2739 of 4009) |#############       | Elapsed Time: 0:08:31 ETA:   0:03:57\u001b[0m\n",
      "\u001b[34m 72% (2902 of 4009) |##############      | Elapsed Time: 0:09:01 ETA:   0:03:26\u001b[0m\n",
      "\u001b[34m 76% (3065 of 4009) |###############     | Elapsed Time: 0:09:31 ETA:   0:02:56\u001b[0m\n",
      "\u001b[34m 80% (3228 of 4009) |################    | Elapsed Time: 0:10:01 ETA:   0:02:25\u001b[0m\n",
      "\u001b[34m 84% (3391 of 4009) |################    | Elapsed Time: 0:10:31 ETA:   0:01:55\u001b[0m\n",
      "\u001b[34m 88% (3554 of 4009) |#################   | Elapsed Time: 0:11:01 ETA:   0:01:24\u001b[0m\n",
      "\u001b[34m 92% (3718 of 4009) |##################  | Elapsed Time: 0:11:31 ETA:   0:00:54\u001b[0m\n",
      "\u001b[34m 96% (3882 of 4009) |################### | Elapsed Time: 0:12:02 ETA:   0:00:23\u001b[0m\n",
      "\u001b[34m100% (4009 of 4009) |####################| Elapsed Time: 0:12:25 Time:  0:12:25\u001b[0m\n",
      "\u001b[34mINFO:analyzer.shap.shap_analyzer:getting explanations took 745.73 seconds.\u001b[0m\n",
      "\u001b[34mINFO:analyzer.shap.shap_analyzer:===================================================\u001b[0m\n",
      "\u001b[34mWARNING:analyzer.shap.shap_util:Falling back to generic labels: label0, label1, ...\u001b[0m\n",
      "\u001b[34mINFO:analyzer.shap.shap_analyzer:converting explanations to tabular took 0.63 seconds.\u001b[0m\n",
      "\u001b[34mINFO:analyzer.shap.shap_analyzer:===================================================\u001b[0m\n",
      "\u001b[34mINFO:analyzer.shap.shap_analyzer:Wrote baseline used to compute explanations to: /opt/ml/processing/output/explanations_shap/baseline.csv\u001b[0m\n",
      "\u001b[34mINFO:analyzer.shap.shap_analyzer:Wrote 4009 local explanations to: /opt/ml/processing/output/explanations_shap/out.csv\u001b[0m\n",
      "\u001b[34mINFO:analyzer.shap.shap_analyzer:writing local explanations took 0.17 seconds.\u001b[0m\n",
      "\u001b[34mINFO:analyzer.shap.shap_analyzer:===================================================\u001b[0m\n",
      "\u001b[34m/usr/local/lib/python3.9/site-packages/numpy/core/fromnumeric.py:3430: FutureWarning: In a future version, DataFrame.mean(axis=None) will return a scalar mean over the entire DataFrame. To retain the old behavior, use 'frame.mean(axis=0)' or just 'frame.mean()'\n",
      "  return mean(axis=axis, dtype=dtype, out=out, **kwargs)\u001b[0m\n",
      "\u001b[34mINFO:analyzer.shap.shap_analyzer:aggregating local explanations took 0.00 seconds.\u001b[0m\n",
      "\u001b[34mINFO:analyzer.shap.shap_analyzer:===================================================\u001b[0m\n",
      "\u001b[34mINFO:analyzer.shap.shap_analyzer:Shap analysis finished.\u001b[0m\n",
      "\u001b[34mINFO:sagemaker-clarify-processing:Calculated global analysis with predictor\u001b[0m\n",
      "\u001b[34mINFO:analyzer.predictor.predictor:Stop using endpoint: sm-clarify-fraud-detect-xgb-model-1714343875-30c5\u001b[0m\n",
      "\u001b[34mINFO:sagemaker:Deleting endpoint configuration with name: sm-clarify-config-1714343875-2d05\u001b[0m\n",
      "\u001b[34mINFO:sagemaker:Deleting endpoint with name: sm-clarify-fraud-detect-xgb-model-1714343875-30c5\u001b[0m\n",
      "\u001b[34mINFO:analyzer.predictor.managed_endpoint:Model endpoint delivered 5.37148 requests per second and a total of 4011 requests over 747 seconds\u001b[0m\n",
      "\u001b[34mINFO:sagemaker-clarify-processing:Calculated global analysis without predictor\u001b[0m\n",
      "\u001b[34mINFO:sagemaker-clarify-processing:Collected analyses: \u001b[0m\n",
      "\u001b[34m{'version': '1.0', 'explanations': {'kernel_shap': defaultdict(<function <lambda> at 0x7f5b9d8e0040>, {'label0': defaultdict(<function <lambda> at 0x7f5b9d8e0040>, {'global_shap_values': defaultdict(<function <lambda> at 0x7f5b9d8e0040>, {'num_vehicles_involved': 0.00392150879118399, 'num_injuries': 0.004849090625918709, 'num_witnesses': 0.001572701003359833, 'police_report_available': 0.0001168588056336879, 'injury_claim': 0.00011393384680107584, 'vehicle_claim': 0.0005993315744167583, 'total_claim_amount': 0.00011528601649159885, 'incident_month': 0.00034458016277888964, 'incident_day': 0.002776792784586135, 'incident_dow': 0.0008216149474696238, 'incident_hour': 0.00011397507411251623, 'customer_age': 0.00012119205549435232, 'months_as_customer': 0.0005467563211479715, 'num_claims_past_year': 0.0016771030030709188, 'num_insurers_past_5_years': 0.0024645670782113688, 'policy_deductable': 0.00011174387007239662, 'policy_annual_premium': 0.00010972635901540262, 'policy_liability': 0.0001172352096988818, 'customer_education': 0.00011264988965524587, 'auto_year': 0.00011817545214182857, 'driver_relationship_other': 0.00011611715764970212, 'driver_relationship_child': 0.00010827797140714944, 'driver_relationship_spouse': 0.0001229621787024871, 'driver_relationship_na': 0.00011279658035210293, 'driver_relationship_self': 0.0001190177546178634, 'incident_type_collision': 0.0001142548856740222, 'incident_type_break-in': 0.0001200188182203043, 'incident_type_theft': 0.00011280024719295129, 'collision_type_rear': 0.00011587114863936616, 'collision_type_side': 0.00011590375056344209, 'collision_type_na': 0.000114891336639244, 'collision_type_front': 0.00011323096304079115, 'incident_severity_totaled': 0.00011695715083163813, 'incident_severity_major': 0.00011593635495433597, 'incident_severity_minor': 0.00010995571124886854, 'authorities_contacted_fire': 0.00012023245894904406, 'authorities_contacted_none': 0.00012034575106473229, 'authorities_contacted_police': 0.00010594299652162646, 'authorities_contacted_ambulance': 0.00011749300092872615, 'policy_state_ca': 0.00010501633793380241, 'policy_state_az': 0.00010803150988872866, 'policy_state_nv': 0.00011816003209981373, 'policy_state_id': 0.0001166100935781299, 'policy_state_wa': 0.00011384770144059727, 'policy_state_or': 0.00011171222589240942, 'customer_gender_other': 0.00011458753780493927, 'customer_gender_male': 0.00886072662464185, 'customer_gender_female': 0.00012275815033980318}), 'expected_value': 0.009246491827070713})})}}\u001b[0m\n",
      "\u001b[34mINFO:analyzer.predictor.predictor:Stop using endpoint: None\u001b[0m\n",
      "\u001b[34mINFO:analyzer.utils.util:['jupyter', 'nbconvert', '--to', 'html', '--output', '/opt/ml/processing/output/report.html', '/opt/ml/processing/output/report.ipynb', '--template', 'sagemaker-xai']\u001b[0m\n",
      "\u001b[34m[NbConvertApp] Converting notebook /opt/ml/processing/output/report.ipynb to html\u001b[0m\n",
      "\u001b[34m[NbConvertApp] Writing 455542 bytes to /opt/ml/processing/output/report.html\u001b[0m\n",
      "\u001b[34mINFO:analyzer.utils.util:['wkhtmltopdf', '-q', '--enable-local-file-access', '/opt/ml/processing/output/report.html', '/opt/ml/processing/output/report.pdf']\u001b[0m\n",
      "\u001b[34mINFO:analyzer.utils.system_util:exit_message: Completed: SageMaker XAI Analyzer ran successfully\u001b[0m\n",
      "\u001b[34m--!\u001b[0m\n",
      "\n"
     ]
    }
   ],
   "source": [
    "explainability_data_config = sagemaker.clarify.DataConfig(\n",
    "    s3_data_input_path=train_data_uri,\n",
    "    s3_output_path=explainability_report_output_uri,\n",
    "    label=\"fraud\",\n",
    "    headers=train_df_cols,\n",
    "    dataset_type=\"text/csv\",\n",
    ")\n",
    "\n",
    "# Use mean of train dataset as baseline data point\n",
    "shap_baseline = [list(train_df.drop([\"fraud\"], axis=1).mean())]\n",
    "\n",
    "shap_config = sagemaker.clarify.SHAPConfig(\n",
    "    baseline=shap_baseline,\n",
    "    num_samples=500,\n",
    "    agg_method=\"mean_abs\",\n",
    "    save_local_shap_values=True,\n",
    ")\n",
    "\n",
    "clarify_processor.run_explainability(\n",
    "    data_config=explainability_data_config,\n",
    "    model_config=model_config,\n",
    "    explainability_config=shap_config\n",
    ")"
   ]
  },
  {
   "cell_type": "code",
   "execution_count": 15,
   "id": "c7d9cf2d-8e3f-431c-8763-30be73fd7f23",
   "metadata": {},
   "outputs": [
    {
     "name": "stdout",
     "output_type": "stream",
     "text": [
      "download: s3://sagemaker-us-east-1-711638914386/fraud-detect-demo/clarify-output/explainability/report.pdf to ./clarify_explainability_output.pdf\n"
     ]
    }
   ],
   "source": [
    "# Copy explainability report and view\n",
    "!aws s3 cp s3://{write_bucket}/{write_prefix}/clarify-output/explainability/report.pdf ./clarify_explainability_output.pdf"
   ]
  },
  {
   "cell_type": "code",
   "execution_count": 16,
   "id": "a1793d57-5ffd-41aa-8715-8f409149570d",
   "metadata": {},
   "outputs": [
    {
     "name": "stdout",
     "output_type": "stream",
     "text": [
      "Example number: 100\n"
     ]
    },
    {
     "data": {
      "image/png": "[encoded data removed]",
      "text/plain": [
       "<Figure size 2000x800 with 1 Axes>"
      ]
     },
     "metadata": {},
     "output_type": "display_data"
    }
   ],
   "source": [
    "import matplotlib.pyplot as plt\n",
    "import matplotlib\n",
    "%matplotlib inline\n",
    "local_explanations_out = pd.read_csv(explainability_report_output_uri + \"/explanations_shap/out.csv\")\n",
    "feature_names = [str.replace(c, \"_label0\", \"\") for c in \n",
    "local_explanations_out.columns.to_series()]\n",
    "local_explanations_out.columns = feature_names\n",
    "\n",
    "selected_example = 100\n",
    "print(\"Example number:\", selected_example)\n",
    "\n",
    "local_explanations_out.iloc[selected_example].plot(\n",
    "    kind=\"bar\", title=\"Local explanation for the example number \" + str(selected_example), rot=60, figsize=(20, 8)\n",
    ");"
   ]
  },
  {
   "cell_type": "markdown",
   "id": "7f350e30-1f93-4b72-a42c-7dc03a5d7070",
   "metadata": {},
   "source": [
    "Step 5: Deploy the model to a real-time inference endpoint"
   ]
  },
  {
   "cell_type": "code",
   "execution_count": 17,
   "id": "46ac5e2c-c938-4f62-9aca-03636d8a4b62",
   "metadata": {},
   "outputs": [
    {
     "name": "stderr",
     "output_type": "stream",
     "text": [
      "INFO:sagemaker.image_uris:Ignoring unnecessary instance type: None.\n",
      "INFO:sagemaker:Creating model with name: xgb-fraud-model-dev\n",
      "INFO:sagemaker:Creating endpoint-config with name xgb-fraud-model-dev-2024-04-28-22-56-57-999\n",
      "INFO:sagemaker:Creating endpoint with name xgb-fraud-model-dev-2024-04-28-22-56-57-999\n"
     ]
    },
    {
     "name": "stdout",
     "output_type": "stream",
     "text": [
      "-----!\n",
      "Model deployed at endpoint : xgb-fraud-model-dev-2024-04-28-22-56-57-999\n"
     ]
    }
   ],
   "source": [
    "best_train_job_name = tuner.best_training_job()\n",
    "\n",
    "model_path = estimator_output_uri + '/' + best_train_job_name + '/output/model.tar.gz'\n",
    "training_image = retrieve(framework=\"xgboost\", region=region, version=\"1.3-1\")\n",
    "create_model_config = {\"model_data\":model_path,\n",
    "                       \"role\":sagemaker_role,\n",
    "                       \"image_uri\":training_image,\n",
    "                       \"name\":endpoint_name_prefix,\n",
    "                       \"predictor_cls\":sagemaker.predictor.Predictor\n",
    "                       }\n",
    "# Create a SageMaker model\n",
    "model = sagemaker.model.Model(**create_model_config)\n",
    "\n",
    "# Deploy the best model and get access to a SageMaker Predictor\n",
    "predictor = model.deploy(initial_instance_count=predictor_instance_count, \n",
    "                         instance_type=predictor_instance_type,\n",
    "                         serializer=CSVSerializer(),\n",
    "                         deserializer=CSVDeserializer())\n",
    "print(f\"\\nModel deployed at endpoint : {model.endpoint_name}\")"
   ]
  },
  {
   "cell_type": "code",
   "execution_count": 18,
   "id": "0da37509-c03e-48c5-8af6-52980e8ef007",
   "metadata": {},
   "outputs": [
    {
     "name": "stdout",
     "output_type": "stream",
     "text": [
      "Model predicted score : 0.009, True label : 0\n"
     ]
    }
   ],
   "source": [
    "# Sample test data\n",
    "test_df = pd.read_csv(test_data_uri)\n",
    "payload = test_df.drop([\"fraud\"], axis=1).iloc[0].to_list()\n",
    "print(f\"Model predicted score : {float(predictor.predict(payload)[0][0]):.3f}, True label : {test_df['fraud'].iloc[0]}\")"
   ]
  },
  {
   "cell_type": "code",
   "execution_count": 19,
   "id": "ae4f1e99-ef52-4ef2-b777-005454bd05c2",
   "metadata": {},
   "outputs": [
    {
     "name": "stderr",
     "output_type": "stream",
     "text": [
      "INFO:sagemaker:Deleting model with name: fraud-detect-xgb-model\n",
      "INFO:sagemaker:Deleting model with name: xgb-fraud-model-dev\n",
      "INFO:sagemaker:Deleting endpoint configuration with name: xgb-fraud-model-dev-2024-04-28-22-56-57-999\n",
      "INFO:sagemaker:Deleting endpoint with name: xgb-fraud-model-dev-2024-04-28-22-56-57-999\n"
     ]
    }
   ],
   "source": [
    "# Delete model\n",
    "try:\n",
    "\tsess.delete_model(xgb_model_name)\n",
    "except:\n",
    "\tpass\n",
    "sess.delete_model(model.name)\n",
    "\n",
    "# Delete inference endpoint config\n",
    "sess.delete_endpoint_config(endpoint_config_name=predictor._get_endpoint_config_name())\n",
    "\n",
    "# Delete inference endpoint\n",
    "sess.delete_endpoint(endpoint_name=model.endpoint_name)"
   ]
  },
  {
   "cell_type": "code",
   "execution_count": null,
   "id": "5a016e3c-2d58-4e95-9780-1653aef3b1a7",
   "metadata": {},
   "outputs": [],
   "source": []
  }
 ],
 "metadata": {
  "availableInstances": [
   {
    "_defaultOrder": 0,
    "_isFastLaunch": true,
    "category": "General purpose",
    "gpuNum": 0,
    "hideHardwareSpecs": false,
    "memoryGiB": 4,
    "name": "ml.t3.medium",
    "vcpuNum": 2
   },
   {
    "_defaultOrder": 1,
    "_isFastLaunch": false,
    "category": "General purpose",
    "gpuNum": 0,
    "hideHardwareSpecs": false,
    "memoryGiB": 8,
    "name": "ml.t3.large",
    "vcpuNum": 2
   },
   {
    "_defaultOrder": 2,
    "_isFastLaunch": false,
    "category": "General purpose",
    "gpuNum": 0,
    "hideHardwareSpecs": false,
    "memoryGiB": 16,
    "name": "ml.t3.xlarge",
    "vcpuNum": 4
   },
   {
    "_defaultOrder": 3,
    "_isFastLaunch": false,
    "category": "General purpose",
    "gpuNum": 0,
    "hideHardwareSpecs": false,
    "memoryGiB": 32,
    "name": "ml.t3.2xlarge",
    "vcpuNum": 8
   },
   {
    "_defaultOrder": 4,
    "_isFastLaunch": true,
    "category": "General purpose",
    "gpuNum": 0,
    "hideHardwareSpecs": false,
    "memoryGiB": 8,
    "name": "ml.m5.large",
    "vcpuNum": 2
   },
   {
    "_defaultOrder": 5,
    "_isFastLaunch": false,
    "category": "General purpose",
    "gpuNum": 0,
    "hideHardwareSpecs": false,
    "memoryGiB": 16,
    "name": "ml.m5.xlarge",
    "vcpuNum": 4
   },
   {
    "_defaultOrder": 6,
    "_isFastLaunch": false,
    "category": "General purpose",
    "gpuNum": 0,
    "hideHardwareSpecs": false,
    "memoryGiB": 32,
    "name": "ml.m5.2xlarge",
    "vcpuNum": 8
   },
   {
    "_defaultOrder": 7,
    "_isFastLaunch": false,
    "category": "General purpose",
    "gpuNum": 0,
    "hideHardwareSpecs": false,
    "memoryGiB": 64,
    "name": "ml.m5.4xlarge",
    "vcpuNum": 16
   },
   {
    "_defaultOrder": 8,
    "_isFastLaunch": false,
    "category": "General purpose",
    "gpuNum": 0,
    "hideHardwareSpecs": false,
    "memoryGiB": 128,
    "name": "ml.m5.8xlarge",
    "vcpuNum": 32
   },
   {
    "_defaultOrder": 9,
    "_isFastLaunch": false,
    "category": "General purpose",
    "gpuNum": 0,
    "hideHardwareSpecs": false,
    "memoryGiB": 192,
    "name": "ml.m5.12xlarge",
    "vcpuNum": 48
   },
   {
    "_defaultOrder": 10,
    "_isFastLaunch": false,
    "category": "General purpose",
    "gpuNum": 0,
    "hideHardwareSpecs": false,
    "memoryGiB": 256,
    "name": "ml.m5.16xlarge",
    "vcpuNum": 64
   },
   {
    "_defaultOrder": 11,
    "_isFastLaunch": false,
    "category": "General purpose",
    "gpuNum": 0,
    "hideHardwareSpecs": false,
    "memoryGiB": 384,
    "name": "ml.m5.24xlarge",
    "vcpuNum": 96
   },
   {
    "_defaultOrder": 12,
    "_isFastLaunch": false,
    "category": "General purpose",
    "gpuNum": 0,
    "hideHardwareSpecs": false,
    "memoryGiB": 8,
    "name": "ml.m5d.large",
    "vcpuNum": 2
   },
   {
    "_defaultOrder": 13,
    "_isFastLaunch": false,
    "category": "General purpose",
    "gpuNum": 0,
    "hideHardwareSpecs": false,
    "memoryGiB": 16,
    "name": "ml.m5d.xlarge",
    "vcpuNum": 4
   },
   {
    "_defaultOrder": 14,
    "_isFastLaunch": false,
    "category": "General purpose",
    "gpuNum": 0,
    "hideHardwareSpecs": false,
    "memoryGiB": 32,
    "name": "ml.m5d.2xlarge",
    "vcpuNum": 8
   },
   {
    "_defaultOrder": 15,
    "_isFastLaunch": false,
    "category": "General purpose",
    "gpuNum": 0,
    "hideHardwareSpecs": false,
    "memoryGiB": 64,
    "name": "ml.m5d.4xlarge",
    "vcpuNum": 16
   },
   {
    "_defaultOrder": 16,
    "_isFastLaunch": false,
    "category": "General purpose",
    "gpuNum": 0,
    "hideHardwareSpecs": false,
    "memoryGiB": 128,
    "name": "ml.m5d.8xlarge",
    "vcpuNum": 32
   },
   {
    "_defaultOrder": 17,
    "_isFastLaunch": false,
    "category": "General purpose",
    "gpuNum": 0,
    "hideHardwareSpecs": false,
    "memoryGiB": 192,
    "name": "ml.m5d.12xlarge",
    "vcpuNum": 48
   },
   {
    "_defaultOrder": 18,
    "_isFastLaunch": false,
    "category": "General purpose",
    "gpuNum": 0,
    "hideHardwareSpecs": false,
    "memoryGiB": 256,
    "name": "ml.m5d.16xlarge",
    "vcpuNum": 64
   },
   {
    "_defaultOrder": 19,
    "_isFastLaunch": false,
    "category": "General purpose",
    "gpuNum": 0,
    "hideHardwareSpecs": false,
    "memoryGiB": 384,
    "name": "ml.m5d.24xlarge",
    "vcpuNum": 96
   },
   {
    "_defaultOrder": 20,
    "_isFastLaunch": false,
    "category": "General purpose",
    "gpuNum": 0,
    "hideHardwareSpecs": true,
    "memoryGiB": 0,
    "name": "ml.geospatial.interactive",
    "supportedImageNames": [
     "sagemaker-geospatial-v1-0"
    ],
    "vcpuNum": 0
   },
   {
    "_defaultOrder": 21,
    "_isFastLaunch": true,
    "category": "Compute optimized",
    "gpuNum": 0,
    "hideHardwareSpecs": false,
    "memoryGiB": 4,
    "name": "ml.c5.large",
    "vcpuNum": 2
   },
   {
    "_defaultOrder": 22,
    "_isFastLaunch": false,
    "category": "Compute optimized",
    "gpuNum": 0,
    "hideHardwareSpecs": false,
    "memoryGiB": 8,
    "name": "ml.c5.xlarge",
    "vcpuNum": 4
   },
   {
    "_defaultOrder": 23,
    "_isFastLaunch": false,
    "category": "Compute optimized",
    "gpuNum": 0,
    "hideHardwareSpecs": false,
    "memoryGiB": 16,
    "name": "ml.c5.2xlarge",
    "vcpuNum": 8
   },
   {
    "_defaultOrder": 24,
    "_isFastLaunch": false,
    "category": "Compute optimized",
    "gpuNum": 0,
    "hideHardwareSpecs": false,
    "memoryGiB": 32,
    "name": "ml.c5.4xlarge",
    "vcpuNum": 16
   },
   {
    "_defaultOrder": 25,
    "_isFastLaunch": false,
    "category": "Compute optimized",
    "gpuNum": 0,
    "hideHardwareSpecs": false,
    "memoryGiB": 72,
    "name": "ml.c5.9xlarge",
    "vcpuNum": 36
   },
   {
    "_defaultOrder": 26,
    "_isFastLaunch": false,
    "category": "Compute optimized",
    "gpuNum": 0,
    "hideHardwareSpecs": false,
    "memoryGiB": 96,
    "name": "ml.c5.12xlarge",
    "vcpuNum": 48
   },
   {
    "_defaultOrder": 27,
    "_isFastLaunch": false,
    "category": "Compute optimized",
    "gpuNum": 0,
    "hideHardwareSpecs": false,
    "memoryGiB": 144,
    "name": "ml.c5.18xlarge",
    "vcpuNum": 72
   },
   {
    "_defaultOrder": 28,
    "_isFastLaunch": false,
    "category": "Compute optimized",
    "gpuNum": 0,
    "hideHardwareSpecs": false,
    "memoryGiB": 192,
    "name": "ml.c5.24xlarge",
    "vcpuNum": 96
   },
   {
    "_defaultOrder": 29,
    "_isFastLaunch": true,
    "category": "Accelerated computing",
    "gpuNum": 1,
    "hideHardwareSpecs": false,
    "memoryGiB": 16,
    "name": "ml.g4dn.xlarge",
    "vcpuNum": 4
   },
   {
    "_defaultOrder": 30,
    "_isFastLaunch": false,
    "category": "Accelerated computing",
    "gpuNum": 1,
    "hideHardwareSpecs": false,
    "memoryGiB": 32,
    "name": "ml.g4dn.2xlarge",
    "vcpuNum": 8
   },
   {
    "_defaultOrder": 31,
    "_isFastLaunch": false,
    "category": "Accelerated computing",
    "gpuNum": 1,
    "hideHardwareSpecs": false,
    "memoryGiB": 64,
    "name": "ml.g4dn.4xlarge",
    "vcpuNum": 16
   },
   {
    "_defaultOrder": 32,
    "_isFastLaunch": false,
    "category": "Accelerated computing",
    "gpuNum": 1,
    "hideHardwareSpecs": false,
    "memoryGiB": 128,
    "name": "ml.g4dn.8xlarge",
    "vcpuNum": 32
   },
   {
    "_defaultOrder": 33,
    "_isFastLaunch": false,
    "category": "Accelerated computing",
    "gpuNum": 4,
    "hideHardwareSpecs": false,
    "memoryGiB": 192,
    "name": "ml.g4dn.12xlarge",
    "vcpuNum": 48
   },
   {
    "_defaultOrder": 34,
    "_isFastLaunch": false,
    "category": "Accelerated computing",
    "gpuNum": 1,
    "hideHardwareSpecs": false,
    "memoryGiB": 256,
    "name": "ml.g4dn.16xlarge",
    "vcpuNum": 64
   },
   {
    "_defaultOrder": 35,
    "_isFastLaunch": false,
    "category": "Accelerated computing",
    "gpuNum": 1,
    "hideHardwareSpecs": false,
    "memoryGiB": 61,
    "name": "ml.p3.2xlarge",
    "vcpuNum": 8
   },
   {
    "_defaultOrder": 36,
    "_isFastLaunch": false,
    "category": "Accelerated computing",
    "gpuNum": 4,
    "hideHardwareSpecs": false,
    "memoryGiB": 244,
    "name": "ml.p3.8xlarge",
    "vcpuNum": 32
   },
   {
    "_defaultOrder": 37,
    "_isFastLaunch": false,
    "category": "Accelerated computing",
    "gpuNum": 8,
    "hideHardwareSpecs": false,
    "memoryGiB": 488,
    "name": "ml.p3.16xlarge",
    "vcpuNum": 64
   },
   {
    "_defaultOrder": 38,
    "_isFastLaunch": false,
    "category": "Accelerated computing",
    "gpuNum": 8,
    "hideHardwareSpecs": false,
    "memoryGiB": 768,
    "name": "ml.p3dn.24xlarge",
    "vcpuNum": 96
   },
   {
    "_defaultOrder": 39,
    "_isFastLaunch": false,
    "category": "Memory Optimized",
    "gpuNum": 0,
    "hideHardwareSpecs": false,
    "memoryGiB": 16,
    "name": "ml.r5.large",
    "vcpuNum": 2
   },
   {
    "_defaultOrder": 40,
    "_isFastLaunch": false,
    "category": "Memory Optimized",
    "gpuNum": 0,
    "hideHardwareSpecs": false,
    "memoryGiB": 32,
    "name": "ml.r5.xlarge",
    "vcpuNum": 4
   },
   {
    "_defaultOrder": 41,
    "_isFastLaunch": false,
    "category": "Memory Optimized",
    "gpuNum": 0,
    "hideHardwareSpecs": false,
    "memoryGiB": 64,
    "name": "ml.r5.2xlarge",
    "vcpuNum": 8
   },
   {
    "_defaultOrder": 42,
    "_isFastLaunch": false,
    "category": "Memory Optimized",
    "gpuNum": 0,
    "hideHardwareSpecs": false,
    "memoryGiB": 128,
    "name": "ml.r5.4xlarge",
    "vcpuNum": 16
   },
   {
    "_defaultOrder": 43,
    "_isFastLaunch": false,
    "category": "Memory Optimized",
    "gpuNum": 0,
    "hideHardwareSpecs": false,
    "memoryGiB": 256,
    "name": "ml.r5.8xlarge",
    "vcpuNum": 32
   },
   {
    "_defaultOrder": 44,
    "_isFastLaunch": false,
    "category": "Memory Optimized",
    "gpuNum": 0,
    "hideHardwareSpecs": false,
    "memoryGiB": 384,
    "name": "ml.r5.12xlarge",
    "vcpuNum": 48
   },
   {
    "_defaultOrder": 45,
    "_isFastLaunch": false,
    "category": "Memory Optimized",
    "gpuNum": 0,
    "hideHardwareSpecs": false,
    "memoryGiB": 512,
    "name": "ml.r5.16xlarge",
    "vcpuNum": 64
   },
   {
    "_defaultOrder": 46,
    "_isFastLaunch": false,
    "category": "Memory Optimized",
    "gpuNum": 0,
    "hideHardwareSpecs": false,
    "memoryGiB": 768,
    "name": "ml.r5.24xlarge",
    "vcpuNum": 96
   },
   {
    "_defaultOrder": 47,
    "_isFastLaunch": false,
    "category": "Accelerated computing",
    "gpuNum": 1,
    "hideHardwareSpecs": false,
    "memoryGiB": 16,
    "name": "ml.g5.xlarge",
    "vcpuNum": 4
   },
   {
    "_defaultOrder": 48,
    "_isFastLaunch": false,
    "category": "Accelerated computing",
    "gpuNum": 1,
    "hideHardwareSpecs": false,
    "memoryGiB": 32,
    "name": "ml.g5.2xlarge",
    "vcpuNum": 8
   },
   {
    "_defaultOrder": 49,
    "_isFastLaunch": false,
    "category": "Accelerated computing",
    "gpuNum": 1,
    "hideHardwareSpecs": false,
    "memoryGiB": 64,
    "name": "ml.g5.4xlarge",
    "vcpuNum": 16
   },
   {
    "_defaultOrder": 50,
    "_isFastLaunch": false,
    "category": "Accelerated computing",
    "gpuNum": 1,
    "hideHardwareSpecs": false,
    "memoryGiB": 128,
    "name": "ml.g5.8xlarge",
    "vcpuNum": 32
   },
   {
    "_defaultOrder": 51,
    "_isFastLaunch": false,
    "category": "Accelerated computing",
    "gpuNum": 1,
    "hideHardwareSpecs": false,
    "memoryGiB": 256,
    "name": "ml.g5.16xlarge",
    "vcpuNum": 64
   },
   {
    "_defaultOrder": 52,
    "_isFastLaunch": false,
    "category": "Accelerated computing",
    "gpuNum": 4,
    "hideHardwareSpecs": false,
    "memoryGiB": 192,
    "name": "ml.g5.12xlarge",
    "vcpuNum": 48
   },
   {
    "_defaultOrder": 53,
    "_isFastLaunch": false,
    "category": "Accelerated computing",
    "gpuNum": 4,
    "hideHardwareSpecs": false,
    "memoryGiB": 384,
    "name": "ml.g5.24xlarge",
    "vcpuNum": 96
   },
   {
    "_defaultOrder": 54,
    "_isFastLaunch": false,
    "category": "Accelerated computing",
    "gpuNum": 8,
    "hideHardwareSpecs": false,
    "memoryGiB": 768,
    "name": "ml.g5.48xlarge",
    "vcpuNum": 192
   },
   {
    "_defaultOrder": 55,
    "_isFastLaunch": false,
    "category": "Accelerated computing",
    "gpuNum": 8,
    "hideHardwareSpecs": false,
    "memoryGiB": 1152,
    "name": "ml.p4d.24xlarge",
    "vcpuNum": 96
   },
   {
    "_defaultOrder": 56,
    "_isFastLaunch": false,
    "category": "Accelerated computing",
    "gpuNum": 8,
    "hideHardwareSpecs": false,
    "memoryGiB": 1152,
    "name": "ml.p4de.24xlarge",
    "vcpuNum": 96
   },
   {
    "_defaultOrder": 57,
    "_isFastLaunch": false,
    "category": "Accelerated computing",
    "gpuNum": 0,
    "hideHardwareSpecs": false,
    "memoryGiB": 32,
    "name": "ml.trn1.2xlarge",
    "vcpuNum": 8
   },
   {
    "_defaultOrder": 58,
    "_isFastLaunch": false,
    "category": "Accelerated computing",
    "gpuNum": 0,
    "hideHardwareSpecs": false,
    "memoryGiB": 512,
    "name": "ml.trn1.32xlarge",
    "vcpuNum": 128
   },
   {
    "_defaultOrder": 59,
    "_isFastLaunch": false,
    "category": "Accelerated computing",
    "gpuNum": 0,
    "hideHardwareSpecs": false,
    "memoryGiB": 512,
    "name": "ml.trn1n.32xlarge",
    "vcpuNum": 128
   }
  ],
  "instance_type": "ml.t3.medium",
  "kernelspec": {
   "display_name": "Python 3 (Data Science 3.0)",
   "language": "python",
   "name": "python3__SAGEMAKER_INTERNAL__arn:aws:sagemaker:us-east-1:081325390199:image/sagemaker-data-science-310-v1"
  },
  "language_info": {
   "codemirror_mode": {
    "name": "ipython",
    "version": 3
   },
   "file_extension": ".py",
   "mimetype": "text/x-python",
   "name": "python",
   "nbconvert_exporter": "python",
   "pygments_lexer": "ipython3",
   "version": "3.10.6"
  }
 },
 "nbformat": 4,
 "nbformat_minor": 5
}
